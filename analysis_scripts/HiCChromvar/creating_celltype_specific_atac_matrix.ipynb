{
 "cells": [
  {
   "cell_type": "code",
   "execution_count": null,
   "id": "92e7a684-eb25-4cc3-b0e0-e3fe0435076f",
   "metadata": {},
   "outputs": [],
   "source": [
    "%load_ext autoreload\n",
    "%autoreload 2\n",
    "import pandas as pd\n",
    "import os\n",
    "import numpy as np\n",
    "import scprinter as scp\n",
    "import scanpy as sc\n",
    "import anndata\n",
    "sc._settings.settings.n_jobs = -1"
   ]
  },
  {
   "cell_type": "code",
   "execution_count": null,
   "id": "fbb82e69-9e84-491e-8738-bb34fed79efd",
   "metadata": {},
   "outputs": [],
   "source": [
    "work_dir = '/ewsc/rzhang/GAGE_seq_AD/scATAC'"
   ]
  },
  {
   "cell_type": "code",
   "execution_count": null,
   "id": "3246927d-82dd-4b32-b87c-93628d40efa6",
   "metadata": {
    "scrolled": true
   },
   "outputs": [],
   "source": [
    "meta = pd.read_csv('snATAC_meta_TSS_6.tsv', sep='\\t')\n",
    "meta"
   ]
  },
  {
   "cell_type": "code",
   "execution_count": null,
   "id": "281fa6ea-64c3-4712-83f6-b49f3ac9eb50",
   "metadata": {
    "scrolled": true
   },
   "outputs": [],
   "source": [
    "lib2whitelist = {}\n",
    "for xx in meta['cellId']:\n",
    "    xx = xx.split(\"#\")\n",
    "    lib = xx[0]\n",
    "    bc = xx[1]\n",
    "    if lib not in lib2whitelist:\n",
    "        lib2whitelist[lib] = []\n",
    "    lib2whitelist[lib].append(bc)"
   ]
  },
  {
   "cell_type": "code",
   "execution_count": null,
   "id": "950a6c68-f942-4354-9d7c-bde417197cff",
   "metadata": {},
   "outputs": [],
   "source": [
    "libs = [...]\n",
    "frags = [f'./fragments/{lib}_fragments.bed.gz' for lib in libs]\n",
    "whitelists = [lib2whitelist[lib] for lib in libs]"
   ]
  },
  {
   "cell_type": "code",
   "execution_count": null,
   "id": "de9c9322-08c5-456c-a0aa-bbd2f4563992",
   "metadata": {},
   "outputs": [],
   "source": [
    "work_dir = '/ewsc/zhangruo/GAGE_seq_AD/scATAC'"
   ]
  },
  {
   "cell_type": "code",
   "execution_count": null,
   "id": "60807eb2-36de-440d-97f0-913f7e4004b0",
   "metadata": {
    "scrolled": true
   },
   "outputs": [],
   "source": [
    "import scprinter as scp\n",
    "import time\n",
    "start = time.time()\n",
    "\n",
    "if os.path.exists(f'{work_dir}/scprinter_tss6.h5ad'):\n",
    "    printer = scp.load_printer(f'{work_dir}/scprinter_tss6.h5ad', scp.genome.hg38)\n",
    "else:\n",
    "    printer = scp.pp.import_fragments(\n",
    "                        path_to_frags=frags,\n",
    "                        barcodes=whitelists,\n",
    "                        savename=f'{work_dir}/scprinter_tss6.h5ad',\n",
    "                        genome=scp.genome.hg38,\n",
    "                        min_num_fragments=0, min_tsse=0,\n",
    "                        sorted_by_barcode=False, \n",
    "                        low_memory=False,\n",
    "                        sample_names=libs\n",
    "                        )\n",
    "print (\"takes\", time.time()-start)"
   ]
  },
  {
   "cell_type": "code",
   "execution_count": null,
   "id": "2d192b8b-740e-45b4-93f6-5ce727b54e07",
   "metadata": {},
   "outputs": [],
   "source": [
    "from itertools import chain\n",
    "all_whitelist = []\n",
    "for lib, wl in zip(libs, whitelists):\n",
    "    for x in wl:\n",
    "        all_whitelist.append(f'{lib}_{x}')"
   ]
  },
  {
   "cell_type": "code",
   "execution_count": null,
   "id": "71b2ec08-f6b1-429f-805d-f5116a12d24a",
   "metadata": {},
   "outputs": [],
   "source": [
    "meta.index= [xx.split(\"#\")[0] + \"_\" + xx.split(\"#\")[1] for xx in meta['cellId']]\n",
    "meta['index'] = meta.index\n",
    "meta = meta.loc[all_whitelist].copy()\n",
    "meta"
   ]
  },
  {
   "cell_type": "code",
   "execution_count": null,
   "id": "c69ea56a-090c-4b0d-8760-1dfb2acc131e",
   "metadata": {},
   "outputs": [],
   "source": [
    "cell_grouping, group_names = scp.utils.df2cell_grouping(printer, meta[['index', 'Celltype']])"
   ]
  },
  {
   "cell_type": "code",
   "execution_count": null,
   "id": "3c8dc663-e3f3-4358-99d7-987e1d264d90",
   "metadata": {
    "scrolled": true
   },
   "outputs": [],
   "source": [
    "scp.pp.call_peaks(\n",
    "    printer=printer,\n",
    "    frag_file=frags,\n",
    "    cell_grouping=cell_grouping,\n",
    "    group_names=list(group_names),\n",
    "    iterative_peak_merging=True,\n",
    "    merge_across_groups=True,\n",
    "    preset='chromvar',\n",
    "    sample_names=libs,\n",
    "    overwrite=False,\n",
    "    fdr_threshold=0.001)"
   ]
  },
  {
   "cell_type": "code",
   "execution_count": null,
   "id": "1bcc1caa-4ae0-4eb6-a3b7-ad71b9ee5a05",
   "metadata": {},
   "outputs": [],
   "source": [
    "df = printer.uns['peak_calling']['merged']\n",
    "peaks = pd.DataFrame(df, columns=df.columns)\n",
    "peaks"
   ]
  },
  {
   "cell_type": "code",
   "execution_count": null,
   "id": "f9670312-e0c8-4602-aadb-3d96689fa136",
   "metadata": {},
   "outputs": [],
   "source": [
    "peaks.to_csv(f'{work_dir}/tss6_atac_peaks.bed', sep='\\t', header=False, index=False)"
   ]
  },
  {
   "cell_type": "code",
   "execution_count": null,
   "id": "768afd2a-2344-402b-b6c0-12d264826057",
   "metadata": {},
   "outputs": [],
   "source": [
    "scp.pp.call_peaks(\n",
    "    printer=printer,\n",
    "    frag_file=frags,\n",
    "    cell_grouping=cell_grouping,\n",
    "    group_names=list(group_names),\n",
    "    iterative_peak_merging=True,\n",
    "    merge_across_groups=False,\n",
    "    preset='chromvar',\n",
    "    sample_names=libs,\n",
    "    overwrite=False,\n",
    "    fdr_threshold=0.001)"
   ]
  },
  {
   "cell_type": "code",
   "execution_count": null,
   "id": "9c7a20ac-0344-4a77-8117-bdec3894763e",
   "metadata": {},
   "outputs": [],
   "source": [
    "cell_grouping, group_names = scp.utils.df2cell_grouping(printer, meta[meta['ADdiag3types'] == 'nonAD'][['index', 'Celltype']])\n",
    "group_names = [f'CT_{x}' for x in group_names]"
   ]
  },
  {
   "cell_type": "code",
   "execution_count": null,
   "id": "d2122115-0486-4368-b5f0-8ab36fa13616",
   "metadata": {
    "scrolled": true
   },
   "outputs": [],
   "source": [
    "scp.pp.call_peaks(\n",
    "    printer=printer,\n",
    "    frag_file=frags,\n",
    "    cell_grouping=cell_grouping,\n",
    "    group_names=list(group_names),\n",
    "    iterative_peak_merging=True,\n",
    "    merge_across_groups=False,\n",
    "    preset='chromvar',\n",
    "    sample_names=libs,\n",
    "    overwrite=False,\n",
    "    fdr_threshold=0.001)"
   ]
  },
  {
   "cell_type": "code",
   "execution_count": null,
   "id": "6bacf70e-36df-4369-a24e-6ed25243e36a",
   "metadata": {},
   "outputs": [],
   "source": []
  },
  {
   "cell_type": "code",
   "execution_count": null,
   "id": "e02a1024-47d0-4741-a8d4-202d0e096cd1",
   "metadata": {},
   "outputs": [],
   "source": [
    "for key in printer.uns['peak_calling'].keys():\n",
    "    if \"cleaned\" in key:\n",
    "        df = printer.uns['peak_calling'][key]\n",
    "        peaks = pd.DataFrame(df, columns=df.columns)\n",
    "        # peaks.to_csv(f'{work_dir}/tss6_{key}_atac_peaks.bed', sep='\\t', header=False, index=False)\n",
    "        atac_adata = scp.pp.make_peak_matrix(printer=printer,\n",
    "                                     regions=peaks,\n",
    "                                     region_width=300,\n",
    "                                     sparse=True)\n",
    "        atac_adata.obs = meta.loc[atac_adata.obs.index].copy()\n",
    "        atac_adata.write(f'{key}_cellxpeak.h5ad')"
   ]
  },
  {
   "cell_type": "code",
   "execution_count": null,
   "id": "b971895f-c46c-4184-bd82-a562ee6e0ad5",
   "metadata": {},
   "outputs": [],
   "source": []
  }
 ],
 "metadata": {
  "kernelspec": {
   "display_name": "Python 3 (ipykernel)",
   "language": "python",
   "name": "python3"
  },
  "language_info": {
   "codemirror_mode": {
    "name": "ipython",
    "version": 3
   },
   "file_extension": ".py",
   "mimetype": "text/x-python",
   "name": "python",
   "nbconvert_exporter": "python",
   "pygments_lexer": "ipython3",
   "version": "3.11.12"
  }
 },
 "nbformat": 4,
 "nbformat_minor": 5
}
